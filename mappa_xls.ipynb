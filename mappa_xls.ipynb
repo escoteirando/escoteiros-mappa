{
  "nbformat": 4,
  "nbformat_minor": 0,
  "metadata": {
    "colab": {
      "provenance": []
    },
    "kernelspec": {
      "name": "python3",
      "display_name": "Python 3"
    },
    "language_info": {
      "name": "python"
    }
  },
  "cells": [
    {
      "cell_type": "code",
      "execution_count": null,
      "metadata": {
        "colab": {
          "base_uri": "https://localhost:8080/"
        },
        "id": "bQ0xDEI7CFjo",
        "outputId": "220c1839-80d1-4897-b16d-ebbb24853c51"
      },
      "outputs": [
        {
          "output_type": "stream",
          "name": "stdout",
          "text": [
            "Login mappa:  guionardo\n",
            "Login OK\n",
            "GET ESCOTISTA  OK\n",
            "Escotista GUIONARDO FURLAN\n",
            "Grupo LEÕES DE BLUMENAU 32/SC\n",
            "GET SEÇõES  OK\n",
            "Seção 1424 ALCATÉIA 1 \n"
          ]
        }
      ],
      "source": [
        "import requests  # Import the requests library\n",
        "import json\n",
        "import pandas as pd\n",
        "from pandas import json_normalize\n",
        "\n",
        "def erro(*msg):\n",
        "  print('ERROR', *msg)\n",
        "  exit()\n",
        "\n",
        "with open(\"sample_data/mappa.json\") as f:\n",
        "  user,password=json.load(f)\n",
        "auth,user_id='',0\n",
        "\n",
        "def get(url,title):\n",
        "  print('GET',title,end='')\n",
        "  response=requests.get((url),headers={'Authorization':auth})\n",
        "  if response.status_code>299:\n",
        "    erro(response,response.json())\n",
        "  print(' ',response.reason)\n",
        "  return response.json()\n",
        "\n",
        "\n",
        "def login(user,password):\n",
        "  url = ('https://mappa-proxy.fly.dev/mappa/login')\n",
        "  response = requests.post(url,json=dict(username=user,password=password))\n",
        "  if response.status_code!=200:\n",
        "    erro(response,response.json())\n",
        "  global auth,user_id\n",
        "  auth_json = response.json()\n",
        "  print('Login OK')\n",
        "  return auth_json['id'],auth_json['userId']\n",
        "\n",
        "def escotista():\n",
        "  url=('https://mappa-proxy.fly.dev/mappa/escotista/{user_id}')\n",
        "\n",
        "print('Login mappa: ',user)\n",
        "\n",
        "auth,user_id = login(user,password)\n",
        "\n",
        "escotista=get(f'https://mappa-proxy.fly.dev/mappa/escotista/{user_id}','ESCOTISTA')\n",
        "\n",
        "print('Escotista',escotista['associado']['nome'])\n",
        "print('Grupo',escotista['grupo']['nome'],f'{escotista[\"grupo\"][\"codigo\"]}/{escotista[\"grupo\"][\"codigoRegiao\"]}')\n",
        "\n",
        "secoes = get(f'https://mappa-proxy.fly.dev/mappa/secoes/{user_id}','SEÇõES')\n",
        "\n",
        "marcacoes={}\n",
        "for secao in secoes:\n",
        "  codigo_secao = secao['codigo']\n",
        "  url = (f'https://mappa-proxy.fly.dev/mappa/marcacoes/{codigo_secao}')\n",
        "  response = requests.get(url,headers={'Authorization':auth})\n",
        "  if response.status_code!=200:\n",
        "    print(\"ERROR\",response,response.json())\n",
        "    exit()\n",
        "  marcacoes[codigo_secao]=response.json()\n",
        "  print('Seção',secao['codigo'],secao['nome'])\n"
      ]
    },
    {
      "cell_type": "code",
      "source": [
        "for secao in secoes:\n",
        "  print(f'{secao[\"codigo\"]} {secao[\"nome\"]}')\n",
        "  for subsecao in secao[\"subsecoes\"]:\n",
        "    print(f'  {subsecao[\"nome\"]}')\n",
        "    for associado in subsecao['associados']:\n",
        "      print(f'     {associado[\"nome\"]}')"
      ],
      "metadata": {
        "colab": {
          "base_uri": "https://localhost:8080/"
        },
        "id": "-ghCdJvMyF3s",
        "outputId": "10954f9d-6bfa-4f39-842b-1056d6a4dada"
      },
      "execution_count": null,
      "outputs": [
        {
          "output_type": "stream",
          "name": "stdout",
          "text": [
            "1424 ALCATÉIA 1 \n",
            "  Matilha Amarela (Beatriz)\n",
            "     BERNARDO GROTMANN MORITZ\n",
            "     LOUISE VICTORIA BETHE FURLAN\n",
            "     ANDREAS MIGUEL HEINZEN\n",
            "     THEO FURLAN SCHUMACHER\n",
            "     LUNA GABRIELA MAÇANEIRO DA SILVA\n",
            "     ANTONIA FLORA JUNKES ROSA\n",
            "  Matilha Cinza (Guionardo)\n",
            "     MIGUEL BARRETO HADLICH\n",
            "     ISAAC GUSTAVO COSTA\n",
            "     LETICIA FORTUNATO\n",
            "     MATHEUS HENRIQUE ERDMANN DE NASCIMENTO\n",
            "     LUIZ OTAVIO SAUER WALKER\n",
            "     MANUELA JACOMEL\n",
            "     JULIA DE ALMEIDA AMORIM\n",
            "  Matilha Marrom (Giovana)\n",
            "     CAIO BATISTA DE OLIVEIRA\n",
            "     AMANDA VON HOHENDORFF MAAS DE FAVERI\n",
            "     PEDRO HENRIQUE CARVALHO ARAUJO DA SILVA\n",
            "     IAN BERNARDO MAÇANEIRO DA SILVA\n",
            "     LUIS GUILHERME HELMANN\n",
            "     LUCAS DE ALMEIDA AMORIM\n",
            "  Matilha Vermelha (Henrique)\n",
            "     BENJAMIN DOS SANTOS FURLAN\n",
            "     BETINA SCHATZ SANDRINI DE CASTRO\n",
            "     LARA DOS SANTOS KUFKY\n",
            "     THOMAS AUGUSTO TECHENTIN PACHECO\n",
            "     BEATRIZ SIMEÃO PEDRO LINZMEIER\n"
          ]
        }
      ]
    }
  ]
}
